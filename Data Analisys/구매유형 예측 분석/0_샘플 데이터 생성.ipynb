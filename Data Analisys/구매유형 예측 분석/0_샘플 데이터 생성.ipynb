{
 "cells": [
  {
   "cell_type": "markdown",
   "metadata": {},
   "source": [
    "# 샘플데이터"
   ]
  },
  {
   "cell_type": "code",
   "execution_count": 1,
   "metadata": {},
   "outputs": [],
   "source": [
    "import pandas as pd"
   ]
  },
  {
   "cell_type": "code",
   "execution_count": 3,
   "metadata": {},
   "outputs": [],
   "source": [
    "cus = pd.read_csv(\"./'21년 해카톤_고객정보.csv\", encoding='cp949')\n",
    "car = pd.read_csv(\"./'21년 해카톤_차량정보.csv\", encoding='cp949')\n",
    "cntc = pd.read_csv(\"./'21년 해카톤_접촉정보.csv\", encoding='cp949')\n",
    "ptype = pd.read_csv(\"./'21년 해카톤_차량정보(구매유형분류적용).csv\")"
   ]
  },
  {
   "cell_type": "code",
   "execution_count": 4,
   "metadata": {},
   "outputs": [
    {
     "name": "stdout",
     "output_type": "stream",
     "text": [
      "(1096206, 9)\n"
     ]
    },
    {
     "data": {
      "text/html": [
       "<div>\n",
       "<style scoped>\n",
       "    .dataframe tbody tr th:only-of-type {\n",
       "        vertical-align: middle;\n",
       "    }\n",
       "\n",
       "    .dataframe tbody tr th {\n",
       "        vertical-align: top;\n",
       "    }\n",
       "\n",
       "    .dataframe thead th {\n",
       "        text-align: right;\n",
       "    }\n",
       "</style>\n",
       "<table border=\"1\" class=\"dataframe\">\n",
       "  <thead>\n",
       "    <tr style=\"text-align: right;\">\n",
       "      <th></th>\n",
       "      <th>CUS_ID</th>\n",
       "      <th>PSN_BIZR_YN</th>\n",
       "      <th>SEX_SCN_NM</th>\n",
       "      <th>TYMD</th>\n",
       "      <th>CUS_ADM_TRY_NM</th>\n",
       "      <th>CUS_N_ADMZ_NM</th>\n",
       "      <th>CUS_ADMB_NM</th>\n",
       "      <th>CLB_HOUS_PYG_NM</th>\n",
       "      <th>REAI_BZTC_AVG_PCE</th>\n",
       "    </tr>\n",
       "  </thead>\n",
       "  <tbody>\n",
       "    <tr>\n",
       "      <th>0</th>\n",
       "      <td>AOZZZZO010000035</td>\n",
       "      <td>NaN</td>\n",
       "      <td>남자</td>\n",
       "      <td>19300300</td>\n",
       "      <td>전라남도</td>\n",
       "      <td>영암군</td>\n",
       "      <td>시종면</td>\n",
       "      <td>NaN</td>\n",
       "      <td>NaN</td>\n",
       "    </tr>\n",
       "    <tr>\n",
       "      <th>1</th>\n",
       "      <td>AOZZZZO010000067</td>\n",
       "      <td>NaN</td>\n",
       "      <td>남자</td>\n",
       "      <td>19330600</td>\n",
       "      <td>경상남도</td>\n",
       "      <td>진주시</td>\n",
       "      <td>NaN</td>\n",
       "      <td>NaN</td>\n",
       "      <td>NaN</td>\n",
       "    </tr>\n",
       "    <tr>\n",
       "      <th>2</th>\n",
       "      <td>AOZZZZO010000190</td>\n",
       "      <td>NaN</td>\n",
       "      <td>남자</td>\n",
       "      <td>19370700</td>\n",
       "      <td>NaN</td>\n",
       "      <td>NaN</td>\n",
       "      <td>NaN</td>\n",
       "      <td>23</td>\n",
       "      <td>13400.0</td>\n",
       "    </tr>\n",
       "  </tbody>\n",
       "</table>\n",
       "</div>"
      ],
      "text/plain": [
       "             CUS_ID PSN_BIZR_YN SEX_SCN_NM      TYMD CUS_ADM_TRY_NM  \\\n",
       "0  AOZZZZO010000035         NaN         남자  19300300           전라남도   \n",
       "1  AOZZZZO010000067         NaN         남자  19330600           경상남도   \n",
       "2  AOZZZZO010000190         NaN         남자  19370700            NaN   \n",
       "\n",
       "  CUS_N_ADMZ_NM CUS_ADMB_NM CLB_HOUS_PYG_NM  REAI_BZTC_AVG_PCE  \n",
       "0           영암군         시종면             NaN                NaN  \n",
       "1           진주시         NaN             NaN                NaN  \n",
       "2           NaN         NaN              23            13400.0  "
      ]
     },
     "execution_count": 4,
     "metadata": {},
     "output_type": "execute_result"
    }
   ],
   "source": [
    "print(cus.shape)\n",
    "cus.head(3)"
   ]
  },
  {
   "cell_type": "code",
   "execution_count": 5,
   "metadata": {},
   "outputs": [],
   "source": [
    "cus_s = cus.head(109620)\n",
    "cus_s.to_csv(\"'21년 해카톤_고객정보_샘플.csv\", encoding='utf-8-sig', index=False)"
   ]
  },
  {
   "cell_type": "code",
   "execution_count": 6,
   "metadata": {},
   "outputs": [
    {
     "name": "stdout",
     "output_type": "stream",
     "text": [
      "(1835830, 10)\n"
     ]
    },
    {
     "data": {
      "text/html": [
       "<div>\n",
       "<style scoped>\n",
       "    .dataframe tbody tr th:only-of-type {\n",
       "        vertical-align: middle;\n",
       "    }\n",
       "\n",
       "    .dataframe tbody tr th {\n",
       "        vertical-align: top;\n",
       "    }\n",
       "\n",
       "    .dataframe thead th {\n",
       "        text-align: right;\n",
       "    }\n",
       "</style>\n",
       "<table border=\"1\" class=\"dataframe\">\n",
       "  <thead>\n",
       "    <tr style=\"text-align: right;\">\n",
       "      <th></th>\n",
       "      <th>CAR_ID</th>\n",
       "      <th>CUS_ID</th>\n",
       "      <th>WHOT_DT</th>\n",
       "      <th>CAR_HLDG_STRT_DT</th>\n",
       "      <th>CAR_HLDG_FNH_DT</th>\n",
       "      <th>CAR_NM</th>\n",
       "      <th>CAR_CGRD_NM_1</th>\n",
       "      <th>CAR_CGRD_NM_2</th>\n",
       "      <th>CAR_ENG_NM</th>\n",
       "      <th>CAR_TRIM_NM</th>\n",
       "    </tr>\n",
       "  </thead>\n",
       "  <tbody>\n",
       "    <tr>\n",
       "      <th>0</th>\n",
       "      <td>H1308052741CBFA022907</td>\n",
       "      <td>AOZZZZO010000035</td>\n",
       "      <td>20140627</td>\n",
       "      <td>20140627</td>\n",
       "      <td>20170831.0</td>\n",
       "      <td>LF쏘나타</td>\n",
       "      <td>승용</td>\n",
       "      <td>중형</td>\n",
       "      <td>가솔린 2.0 CVVL</td>\n",
       "      <td>SMART</td>\n",
       "    </tr>\n",
       "    <tr>\n",
       "      <th>1</th>\n",
       "      <td>H1308050341LBEA656859</td>\n",
       "      <td>AOZZZZO010000067</td>\n",
       "      <td>20140711</td>\n",
       "      <td>20140711</td>\n",
       "      <td>NaN</td>\n",
       "      <td>YF쏘나타</td>\n",
       "      <td>승용</td>\n",
       "      <td>중형</td>\n",
       "      <td>LPG 2.0</td>\n",
       "      <td>PREMIUM</td>\n",
       "    </tr>\n",
       "    <tr>\n",
       "      <th>2</th>\n",
       "      <td>H1308052741DBFA038433</td>\n",
       "      <td>AOZZZZO010000190</td>\n",
       "      <td>20140707</td>\n",
       "      <td>20140707</td>\n",
       "      <td>NaN</td>\n",
       "      <td>LF쏘나타</td>\n",
       "      <td>승용</td>\n",
       "      <td>중형</td>\n",
       "      <td>LPi 2.0</td>\n",
       "      <td>PREMIUM</td>\n",
       "    </tr>\n",
       "  </tbody>\n",
       "</table>\n",
       "</div>"
      ],
      "text/plain": [
       "                  CAR_ID            CUS_ID   WHOT_DT  CAR_HLDG_STRT_DT  \\\n",
       "0  H1308052741CBFA022907  AOZZZZO010000035  20140627          20140627   \n",
       "1  H1308050341LBEA656859  AOZZZZO010000067  20140711          20140711   \n",
       "2  H1308052741DBFA038433  AOZZZZO010000190  20140707          20140707   \n",
       "\n",
       "   CAR_HLDG_FNH_DT CAR_NM CAR_CGRD_NM_1 CAR_CGRD_NM_2    CAR_ENG_NM  \\\n",
       "0       20170831.0  LF쏘나타            승용            중형  가솔린 2.0 CVVL   \n",
       "1              NaN  YF쏘나타            승용            중형       LPG 2.0   \n",
       "2              NaN  LF쏘나타            승용            중형       LPi 2.0   \n",
       "\n",
       "  CAR_TRIM_NM  \n",
       "0       SMART  \n",
       "1     PREMIUM  \n",
       "2     PREMIUM  "
      ]
     },
     "execution_count": 6,
     "metadata": {},
     "output_type": "execute_result"
    }
   ],
   "source": [
    "print(car.shape)\n",
    "car.head(3)"
   ]
  },
  {
   "cell_type": "code",
   "execution_count": 7,
   "metadata": {},
   "outputs": [],
   "source": [
    "car_s = car.head(183583)\n",
    "car_s.to_csv(\"'21년 해카톤_차량정보_샘플.csv\", encoding='utf-8-sig', index=False)"
   ]
  },
  {
   "cell_type": "code",
   "execution_count": 8,
   "metadata": {},
   "outputs": [
    {
     "name": "stdout",
     "output_type": "stream",
     "text": [
      "(17734097, 5)\n"
     ]
    },
    {
     "data": {
      "text/html": [
       "<div>\n",
       "<style scoped>\n",
       "    .dataframe tbody tr th:only-of-type {\n",
       "        vertical-align: middle;\n",
       "    }\n",
       "\n",
       "    .dataframe tbody tr th {\n",
       "        vertical-align: top;\n",
       "    }\n",
       "\n",
       "    .dataframe thead th {\n",
       "        text-align: right;\n",
       "    }\n",
       "</style>\n",
       "<table border=\"1\" class=\"dataframe\">\n",
       "  <thead>\n",
       "    <tr style=\"text-align: right;\">\n",
       "      <th></th>\n",
       "      <th>CNTC_SN</th>\n",
       "      <th>CUS_ID</th>\n",
       "      <th>CNTC_DT</th>\n",
       "      <th>CNTC_CHAN_NM</th>\n",
       "      <th>CNTC_AFFR_SCN_NM</th>\n",
       "    </tr>\n",
       "  </thead>\n",
       "  <tbody>\n",
       "    <tr>\n",
       "      <th>0</th>\n",
       "      <td>172591627</td>\n",
       "      <td>AOZZZZO010000035</td>\n",
       "      <td>20150504</td>\n",
       "      <td>방문(대면)</td>\n",
       "      <td>정비</td>\n",
       "    </tr>\n",
       "    <tr>\n",
       "      <th>1</th>\n",
       "      <td>172610507</td>\n",
       "      <td>AOZZZZO010000035</td>\n",
       "      <td>20150504</td>\n",
       "      <td>방문(대면)</td>\n",
       "      <td>정비</td>\n",
       "    </tr>\n",
       "    <tr>\n",
       "      <th>2</th>\n",
       "      <td>306638131</td>\n",
       "      <td>AOZZZZO010000035</td>\n",
       "      <td>20161202</td>\n",
       "      <td>방문(대면)</td>\n",
       "      <td>정비</td>\n",
       "    </tr>\n",
       "  </tbody>\n",
       "</table>\n",
       "</div>"
      ],
      "text/plain": [
       "     CNTC_SN            CUS_ID   CNTC_DT CNTC_CHAN_NM CNTC_AFFR_SCN_NM\n",
       "0  172591627  AOZZZZO010000035  20150504       방문(대면)               정비\n",
       "1  172610507  AOZZZZO010000035  20150504       방문(대면)               정비\n",
       "2  306638131  AOZZZZO010000035  20161202       방문(대면)               정비"
      ]
     },
     "execution_count": 8,
     "metadata": {},
     "output_type": "execute_result"
    }
   ],
   "source": [
    "print(cntc.shape)\n",
    "cntc.head(3)"
   ]
  },
  {
   "cell_type": "code",
   "execution_count": 9,
   "metadata": {},
   "outputs": [],
   "source": [
    "cntc_s = cntc.head(1773409)\n",
    "cntc_s.to_csv(\"'21년 해카톤_접촉정보_샘플.csv\", encoding='utf-8-sig', index=False)"
   ]
  },
  {
   "cell_type": "code",
   "execution_count": 10,
   "metadata": {},
   "outputs": [
    {
     "name": "stdout",
     "output_type": "stream",
     "text": [
      "(159323, 11)\n"
     ]
    },
    {
     "data": {
      "text/html": [
       "<div>\n",
       "<style scoped>\n",
       "    .dataframe tbody tr th:only-of-type {\n",
       "        vertical-align: middle;\n",
       "    }\n",
       "\n",
       "    .dataframe tbody tr th {\n",
       "        vertical-align: top;\n",
       "    }\n",
       "\n",
       "    .dataframe thead th {\n",
       "        text-align: right;\n",
       "    }\n",
       "</style>\n",
       "<table border=\"1\" class=\"dataframe\">\n",
       "  <thead>\n",
       "    <tr style=\"text-align: right;\">\n",
       "      <th></th>\n",
       "      <th>CAR_ID</th>\n",
       "      <th>CUS_ID</th>\n",
       "      <th>WHOT_DT</th>\n",
       "      <th>CAR_HLDG_STRT_DT</th>\n",
       "      <th>CAR_HLDG_FNH_DT</th>\n",
       "      <th>CAR_NM</th>\n",
       "      <th>CAR_CGRD_NM_1</th>\n",
       "      <th>CAR_CGRD_NM_2</th>\n",
       "      <th>CAR_ENG_NM</th>\n",
       "      <th>CAR_TRIM_NM</th>\n",
       "      <th>PUR_TYPE</th>\n",
       "    </tr>\n",
       "  </thead>\n",
       "  <tbody>\n",
       "    <tr>\n",
       "      <th>0</th>\n",
       "      <td>H1308031441VP6U069690</td>\n",
       "      <td>AONEEOO010000113</td>\n",
       "      <td>2006-06-27</td>\n",
       "      <td>2006-06-27</td>\n",
       "      <td>2007-07-12</td>\n",
       "      <td>베르나</td>\n",
       "      <td>승용</td>\n",
       "      <td>소형</td>\n",
       "      <td>2007이전 데이터</td>\n",
       "      <td>2007이전 데이터</td>\n",
       "      <td>최초구매</td>\n",
       "    </tr>\n",
       "    <tr>\n",
       "      <th>1</th>\n",
       "      <td>H1308060741EBBA077034</td>\n",
       "      <td>AONEEOO010000113</td>\n",
       "      <td>2011-08-01</td>\n",
       "      <td>2011-08-01</td>\n",
       "      <td>1900-01-01</td>\n",
       "      <td>그랜저HG</td>\n",
       "      <td>승용</td>\n",
       "      <td>대형</td>\n",
       "      <td>가솔린 3.0</td>\n",
       "      <td>노블</td>\n",
       "      <td>대차</td>\n",
       "    </tr>\n",
       "    <tr>\n",
       "      <th>2</th>\n",
       "      <td>H1308052141BP5A053834</td>\n",
       "      <td>AONEEOO020000165</td>\n",
       "      <td>2005-02-26</td>\n",
       "      <td>2005-02-26</td>\n",
       "      <td>1900-01-01</td>\n",
       "      <td>쏘나타</td>\n",
       "      <td>승용</td>\n",
       "      <td>중형</td>\n",
       "      <td>2007이전 데이터</td>\n",
       "      <td>2007이전 데이터</td>\n",
       "      <td>최초구매</td>\n",
       "    </tr>\n",
       "  </tbody>\n",
       "</table>\n",
       "</div>"
      ],
      "text/plain": [
       "                  CAR_ID            CUS_ID     WHOT_DT CAR_HLDG_STRT_DT  \\\n",
       "0  H1308031441VP6U069690  AONEEOO010000113  2006-06-27       2006-06-27   \n",
       "1  H1308060741EBBA077034  AONEEOO010000113  2011-08-01       2011-08-01   \n",
       "2  H1308052141BP5A053834  AONEEOO020000165  2005-02-26       2005-02-26   \n",
       "\n",
       "  CAR_HLDG_FNH_DT CAR_NM CAR_CGRD_NM_1 CAR_CGRD_NM_2  CAR_ENG_NM CAR_TRIM_NM  \\\n",
       "0      2007-07-12    베르나            승용            소형  2007이전 데이터  2007이전 데이터   \n",
       "1      1900-01-01  그랜저HG            승용            대형     가솔린 3.0          노블   \n",
       "2      1900-01-01    쏘나타            승용            중형  2007이전 데이터  2007이전 데이터   \n",
       "\n",
       "  PUR_TYPE  \n",
       "0     최초구매  \n",
       "1       대차  \n",
       "2     최초구매  "
      ]
     },
     "execution_count": 10,
     "metadata": {},
     "output_type": "execute_result"
    }
   ],
   "source": [
    "print(ptype.shape)\n",
    "ptype.head(3)"
   ]
  },
  {
   "cell_type": "code",
   "execution_count": null,
   "metadata": {},
   "outputs": [],
   "source": [
    "ptype_s = ptype.head(159323)\n",
    "ptype_s.to_csv(\"'21년 해카톤_접촉정보_샘플.csv\", encoding='utf-8-sig', index=False)"
   ]
  }
 ],
 "metadata": {
  "kernelspec": {
   "display_name": "py3.6.10",
   "language": "python",
   "name": "py3.6.10"
  },
  "language_info": {
   "codemirror_mode": {
    "name": "ipython",
    "version": 3
   },
   "file_extension": ".py",
   "mimetype": "text/x-python",
   "name": "python",
   "nbconvert_exporter": "python",
   "pygments_lexer": "ipython3",
   "version": "3.6.10"
  },
  "toc": {
   "base_numbering": 1,
   "nav_menu": {},
   "number_sections": true,
   "sideBar": true,
   "skip_h1_title": false,
   "title_cell": "Table of Contents",
   "title_sidebar": "Contents",
   "toc_cell": false,
   "toc_position": {},
   "toc_section_display": true,
   "toc_window_display": false
  }
 },
 "nbformat": 4,
 "nbformat_minor": 4
}
